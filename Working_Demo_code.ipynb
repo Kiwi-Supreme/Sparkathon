{
 "cells": [
  {
   "cell_type": "code",
   "execution_count": 1,
   "id": "415af9af-08e0-487f-a711-2bc47bdf2af9",
   "metadata": {},
   "outputs": [
    {
     "name": "stdout",
     "output_type": "stream",
     "text": [
      "File 'ml_predicted_prices.xlsx' created successfully.\n"
     ]
    }
   ],
   "source": [
    "import pandas as pd\n",
    "import numpy as np\n",
    "from sklearn.linear_model import LinearRegression\n",
    "\n",
    "# Load Excel files\n",
    "trending_df = pd.read_excel(\"trending_topics.xlsx\")\n",
    "product_rate_df = pd.read_excel(\"product_rate_list.xlsx\")\n",
    "wholesale_price_df = pd.read_excel(\"wholesale_price.xlsx\")\n",
    "\n",
    "# Filter trending products with popularity score >= 80\n",
    "trending_filtered = trending_df[trending_df['Popularity Score'] >= 80].copy()\n",
    "trending_filtered.dropna(subset=['Product / Style'], inplace=True)\n",
    "trending_products = trending_filtered['Product / Style'].unique()\n",
    "\n",
    "# Output list\n",
    "output = []\n",
    "\n",
    "for product in trending_products:\n",
    "    # Get competitor prices\n",
    "    competitors = product_rate_df[product_rate_df['Product Name'] == product]\n",
    "    if competitors.empty:\n",
    "        continue\n",
    "    comp_prices = competitors['Price (INR)'].values\n",
    "    min_comp_price = comp_prices.min()\n",
    "    \n",
    "    # Get wholesale prices\n",
    "    wholesalers = wholesale_price_df[wholesale_price_df['Product Name'] == product]\n",
    "    if wholesalers.empty:\n",
    "        continue\n",
    "    cheapest_wholesaler = wholesalers.loc[wholesalers['Price (INR)'].idxmin()]\n",
    "    wholesale_price = cheapest_wholesaler['Price (INR)']\n",
    "    wholesaler_name = cheapest_wholesaler['Seller']\n",
    "    \n",
    "    # Generate training data for regression\n",
    "    X_train = []\n",
    "    y_train = []\n",
    "    for margin in np.arange(0.30, 0.71, 0.01):  # 30% to 70%\n",
    "        price = wholesale_price * (1 + margin)\n",
    "        if price < min_comp_price:\n",
    "            X_train.append([wholesale_price])\n",
    "            y_train.append(price)\n",
    "    \n",
    "    if not X_train:\n",
    "        continue\n",
    "    \n",
    "    # Fit regression model\n",
    "    model = LinearRegression()\n",
    "    model.fit(X_train, y_train)\n",
    "    \n",
    "    # Predict best price\n",
    "    predicted_price = model.predict([[wholesale_price]])[0]\n",
    "    profit_percent = ((predicted_price - wholesale_price) / wholesale_price) * 100\n",
    "\n",
    "    output.append({\n",
    "        \"Product\": product,\n",
    "        \"Wholesaler\": wholesaler_name,\n",
    "        \"Wholesale Price (INR)\": wholesale_price,\n",
    "        \"Recommended Selling Price (INR)\": round(predicted_price, 2),\n",
    "        \"Profit (%)\": round(profit_percent, 2),\n",
    "        \"Lowest Competitor Price (INR)\": min_comp_price\n",
    "    })\n",
    "\n",
    "# Save to Excel\n",
    "result_df = pd.DataFrame(output)\n",
    "result_df.to_excel(\"ml_predicted_prices.xlsx\", index=False)\n",
    "print(\"File 'ml_predicted_prices.xlsx' created successfully.\")\n"
   ]
  },
  {
   "cell_type": "code",
   "execution_count": null,
   "id": "2e45c9d3-753e-4605-9db8-3fabea43158f",
   "metadata": {},
   "outputs": [],
   "source": []
  }
 ],
 "metadata": {
  "kernelspec": {
   "display_name": "Python 3 (ipykernel)",
   "language": "python",
   "name": "python3"
  },
  "language_info": {
   "codemirror_mode": {
    "name": "ipython",
    "version": 3
   },
   "file_extension": ".py",
   "mimetype": "text/x-python",
   "name": "python",
   "nbconvert_exporter": "python",
   "pygments_lexer": "ipython3",
   "version": "3.13.2"
  }
 },
 "nbformat": 4,
 "nbformat_minor": 5
}
